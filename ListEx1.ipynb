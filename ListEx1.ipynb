{
 "cells": [
  {
   "cell_type": "code",
   "execution_count": 7,
   "metadata": {},
   "outputs": [],
   "source": [
    "# declare some variable that are lists\n",
    "myNumberlist = [1,2,3,4,5,6,7,8,]\n",
    "myNamelist = [\"ana\", \"ben\", \"carly\", \"dave\", \"elaine\", \"fred\",]"
   ]
  },
  {
   "cell_type": "code",
   "execution_count": 2,
   "metadata": {},
   "outputs": [
    {
     "name": "stdout",
     "output_type": "stream",
     "text": [
      "[1, 2, 3, 4, 5, 6, 7, 8]\n",
      "['ana', 'ben', 'carly', 'dave', 'elaine', 'fred']\n"
     ]
    }
   ],
   "source": [
    "#Output whole list with its structure\n",
    "print(myNumberlist)\n",
    "print(myNamelist)"
   ]
  },
  {
   "cell_type": "code",
   "execution_count": 11,
   "metadata": {},
   "outputs": [
    {
     "name": "stdout",
     "output_type": "stream",
     "text": [
      "ana\n",
      "ben\n",
      "carly\n",
      "dave\n",
      "elaine\n",
      "fred\n"
     ]
    }
   ],
   "source": [
    "#output the list, one element at a time\n",
    "#use a for loop and iterate through the list\n",
    "for item in (myNamelist):\n",
    "    print(item)"
   ]
  },
  {
   "cell_type": "code",
   "execution_count": 9,
   "metadata": {},
   "outputs": [
    {
     "name": "stdout",
     "output_type": "stream",
     "text": [
      "anabencarlydaveelainefred"
     ]
    }
   ],
   "source": [
    "for item in (myNamelist):\n",
    "    print(item, end=\"\") # prints each item with a new line "
   ]
  },
  {
   "cell_type": "code",
   "execution_count": 10,
   "metadata": {},
   "outputs": [
    {
     "name": "stdout",
     "output_type": "stream",
     "text": [
      "6\n",
      "8\n"
     ]
    }
   ],
   "source": [
    "#how can we find out elements \n",
    "x = len(myNamelist)\n",
    "print(x)\n",
    "y = len(myNumberlist)\n",
    "print(y)\n"
   ]
  },
  {
   "cell_type": "code",
   "execution_count": 19,
   "metadata": {},
   "outputs": [
    {
     "name": "stdout",
     "output_type": "stream",
     "text": [
      "ana\n",
      "carly\n",
      "elaine\n"
     ]
    }
   ],
   "source": [
    "# how to print every second element of the list\n",
    "for i in range(0,len(myNamelist)):\n",
    "    #only print if the list index number is divisible by 2 - even boxes\n",
    "    if i%2 ==0:\n",
    "        print(myNamelist[i])"
   ]
  }
 ],
 "metadata": {
  "kernelspec": {
   "display_name": "Python 3",
   "language": "python",
   "name": "python3"
  },
  "language_info": {
   "codemirror_mode": {
    "name": "ipython",
    "version": 3
   },
   "file_extension": ".py",
   "mimetype": "text/x-python",
   "name": "python",
   "nbconvert_exporter": "python",
   "pygments_lexer": "ipython3",
   "version": "3.5.2"
  }
 },
 "nbformat": 4,
 "nbformat_minor": 2
}
