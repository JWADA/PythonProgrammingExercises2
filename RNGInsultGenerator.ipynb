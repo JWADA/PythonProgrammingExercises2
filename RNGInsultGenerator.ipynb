{
 "cells": [
  {
   "cell_type": "code",
   "execution_count": 63,
   "metadata": {},
   "outputs": [
    {
     "name": "stdout",
     "output_type": "stream",
     "text": [
      "you are a ordorous ignorant snaketoad\n"
     ]
    }
   ],
   "source": [
    "import random\n",
    "adj1 = [\"smelly\" ,\"stinky\", \"ordorous\", \"slimy\", \"crazy\", \"damp\"]\n",
    "adj2 = [\"lazy\", \"whiney\",\"childish\",\"ignorant\", \"horrific\"]\n",
    "noun = [\"lemur\", \"rodent\", \"snake\" \"toad\", \"carpet\"]\n",
    "\n",
    "print (\"you are a\", random.choice(adj1), random.choice(adj2), random.choice(noun))\n"
   ]
  }
 ],
 "metadata": {
  "kernelspec": {
   "display_name": "Python 3",
   "language": "python",
   "name": "python3"
  },
  "language_info": {
   "codemirror_mode": {
    "name": "ipython",
    "version": 3
   },
   "file_extension": ".py",
   "mimetype": "text/x-python",
   "name": "python",
   "nbconvert_exporter": "python",
   "pygments_lexer": "ipython3",
   "version": "3.5.2"
  }
 },
 "nbformat": 4,
 "nbformat_minor": 2
}
